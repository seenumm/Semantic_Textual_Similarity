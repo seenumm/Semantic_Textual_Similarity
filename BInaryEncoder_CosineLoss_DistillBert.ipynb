{
 "cells": [
  {
   "cell_type": "code",
   "execution_count": 1,
   "id": "51122c48-8f57-4091-9a1c-38cbab3ccd60",
   "metadata": {},
   "outputs": [
    {
     "name": "stderr",
     "output_type": "stream",
     "text": [
      "Some weights of the model checkpoint at distilbert-base-uncased were not used when initializing DistilBertModel: ['vocab_layer_norm.weight', 'vocab_projector.weight', 'vocab_projector.bias', 'vocab_transform.weight', 'vocab_transform.bias', 'vocab_layer_norm.bias']\n",
      "- This IS expected if you are initializing DistilBertModel from the checkpoint of a model trained on another task or with another architecture (e.g. initializing a BertForSequenceClassification model from a BertForPreTraining model).\n",
      "- This IS NOT expected if you are initializing DistilBertModel from the checkpoint of a model that you expect to be exactly identical (initializing a BertForSequenceClassification model from a BertForSequenceClassification model).\n"
     ]
    },
    {
     "name": "stdout",
     "output_type": "stream",
     "text": [
      "['Drug lord captured by marines in Mexico', 'Suspected drug lord known as ‘El Taliban’ held in Mexico'] 0.52\n",
      "warmup steps:  132\n"
     ]
    },
    {
     "data": {
      "application/vnd.jupyter.widget-view+json": {
       "model_id": "2d1af57e04304c69944fee917eeab9f1",
       "version_major": 2,
       "version_minor": 0
      },
      "text/plain": [
       "Epoch:   0%|          | 0/5 [00:00<?, ?it/s]"
      ]
     },
     "metadata": {},
     "output_type": "display_data"
    },
    {
     "data": {
      "application/vnd.jupyter.widget-view+json": {
       "model_id": "19409be4e280425ab9f2eb00d96a132d",
       "version_major": 2,
       "version_minor": 0
      },
      "text/plain": [
       "Iteration:   0%|          | 0/330 [00:00<?, ?it/s]"
      ]
     },
     "metadata": {},
     "output_type": "display_data"
    },
    {
     "data": {
      "application/vnd.jupyter.widget-view+json": {
       "model_id": "f4a5f2c72a694a089f836c46dc40b438",
       "version_major": 2,
       "version_minor": 0
      },
      "text/plain": [
       "Iteration:   0%|          | 0/330 [00:00<?, ?it/s]"
      ]
     },
     "metadata": {},
     "output_type": "display_data"
    },
    {
     "data": {
      "application/vnd.jupyter.widget-view+json": {
       "model_id": "415d68bffd4a4b0fae91226172008c92",
       "version_major": 2,
       "version_minor": 0
      },
      "text/plain": [
       "Iteration:   0%|          | 0/330 [00:00<?, ?it/s]"
      ]
     },
     "metadata": {},
     "output_type": "display_data"
    },
    {
     "data": {
      "application/vnd.jupyter.widget-view+json": {
       "model_id": "fd7929d8d70340da89976036dc64bbc9",
       "version_major": 2,
       "version_minor": 0
      },
      "text/plain": [
       "Iteration:   0%|          | 0/330 [00:00<?, ?it/s]"
      ]
     },
     "metadata": {},
     "output_type": "display_data"
    },
    {
     "data": {
      "application/vnd.jupyter.widget-view+json": {
       "model_id": "8dfde755df724a6081a5cf20141c7925",
       "version_major": 2,
       "version_minor": 0
      },
      "text/plain": [
       "Iteration:   0%|          | 0/330 [00:00<?, ?it/s]"
      ]
     },
     "metadata": {},
     "output_type": "display_data"
    },
    {
     "data": {
      "text/plain": [
       "0.8634703763924765"
      ]
     },
     "execution_count": 1,
     "metadata": {},
     "output_type": "execute_result"
    }
   ],
   "source": [
    "from sentence_transformers import SentenceTransformer, InputExample, models, losses\n",
    "from torch.utils.data import DataLoader\n",
    "from sentence_transformers.evaluation import EmbeddingSimilarityEvaluator\n",
    "\n",
    "# Define Input and Output Paths\n",
    "training_data_path = 'input_data/SemEval_train.txt'\n",
    "testing_data_path = 'input_data/SemEval_test.txt'\n",
    "validation_data_path = 'input_data/SemEval_test.txt'\n",
    "\n",
    "trained_model_path = 'output_model/SemEval_STSModel_BinaryEncoder'\n",
    "\n",
    "# Use DistillBert Encoder\n",
    "word_embedding_model = models.Transformer('distilbert-base-uncased')\n",
    "pooling_model = models.Pooling(word_embedding_model.get_word_embedding_dimension())\n",
    "model = SentenceTransformer(modules=[word_embedding_model, pooling_model])\n",
    "\n",
    "# Read Input Data\n",
    "training_data = []\n",
    "with open(training_data_path, encoding='utf-8') as in_file_train:\n",
    "    line_list = in_file_train.read().splitlines()\n",
    "    for line in line_list:\n",
    "        data_line_train = line.split('\\t')\n",
    "        training_data.append(InputExample(texts=[data_line_train[1], data_line_train[2]], label=float(data_line_train[0])/5.0))\n",
    "\n",
    "testing_data = []\n",
    "with open(testing_data_path, encoding='utf-8') as in_file_test:\n",
    "    line_list = in_file_test.read().splitlines()\n",
    "    for line in line_list:\n",
    "        data_line_test = line.split('\\t')\n",
    "        testing_data.append(InputExample(texts=[data_line_test[1], data_line_test[2]], label=float(data_line_test[0])/5.0))\n",
    "\n",
    "validation_data = []\n",
    "with open(validation_data_path, encoding='utf-8') as in_file_valid:\n",
    "    line_list = in_file_valid.read().splitlines()\n",
    "    for line in line_list:    \n",
    "        data_line_valid = line.split('\\t')\n",
    "        validation_data.append(InputExample(texts=[data_line_valid[1], data_line_valid[2]], label=float(data_line_valid[0])/5.0))\n",
    "\n",
    "# Pytorch Dataloader\n",
    "training_batch_size = 16\n",
    "print(training_data[0].texts, training_data[0].label)\n",
    "training_dataloader = DataLoader(training_data, shuffle=True, batch_size=training_batch_size)\n",
    "\n",
    "# Training Parameters\n",
    "num_epochs = 4\n",
    "training_loss = losses.CosineSimilarityLoss(model)\n",
    "warmup_steps = round(len(training_dataloader) * num_epochs * 0.1) \n",
    "print('warmup steps: ', warmup_steps)\n",
    "# Define Performance Evaluator\n",
    "evaluator = EmbeddingSimilarityEvaluator.from_input_examples(validation_data, name='valid')\n",
    "\n",
    "# Train the model\n",
    "model.fit(train_objectives=[(training_dataloader, training_loss)],\n",
    "          epochs=5,\n",
    "          warmup_steps=100,\n",
    "          evaluator=evaluator,\n",
    "          evaluation_steps=500,\n",
    "          output_path=trained_model_path)\n",
    "\n",
    "# Evaluate Performance Metric\n",
    "evaluator = EmbeddingSimilarityEvaluator.from_input_examples(testing_data, name='test')\n",
    "print (\"Model Evaluation Metric : \", evaluator(model))"
   ]
  },
  {
   "cell_type": "code",
   "execution_count": null,
   "id": "cba4173a-9839-4f97-bb27-8e17fce6572b",
   "metadata": {},
   "outputs": [],
   "source": []
  }
 ],
 "metadata": {
  "kernelspec": {
   "display_name": "Python [conda env:nlp]",
   "language": "python",
   "name": "conda-env-nlp-py"
  },
  "language_info": {
   "codemirror_mode": {
    "name": "ipython",
    "version": 3
   },
   "file_extension": ".py",
   "mimetype": "text/x-python",
   "name": "python",
   "nbconvert_exporter": "python",
   "pygments_lexer": "ipython3",
   "version": "3.7.10"
  }
 },
 "nbformat": 4,
 "nbformat_minor": 5
}
