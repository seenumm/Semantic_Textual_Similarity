{
 "cells": [
  {
   "cell_type": "code",
   "execution_count": 5,
   "id": "1dbba7fe-3e04-4889-8825-3015239a2bfd",
   "metadata": {},
   "outputs": [],
   "source": [
    "from sentence_transformers.cross_encoder import CrossEncoder\n",
    "\n",
    "model = CrossEncoder('output_model/SemEval_STSmodel_CrossEncoder')\n",
    "\n",
    "sts_similarity_score = 5*model.predict([['Reading is my hobby', 'A hobby is what you do when you are free'],\n",
    "                            ['Water is cool', 'Artificiall intelligence is super cool'],\n",
    "                            ['Water is cool', 'Water is cool']])\n",
    "\n",
    "print(\"Similarity index: \", sts_similarity_score)"
   ]
  }
 ],
 "metadata": {
  "kernelspec": {
   "display_name": "Python [conda env:nlp]",
   "language": "python",
   "name": "conda-env-nlp-py"
  },
  "language_info": {
   "codemirror_mode": {
    "name": "ipython",
    "version": 3
   },
   "file_extension": ".py",
   "mimetype": "text/x-python",
   "name": "python",
   "nbconvert_exporter": "python",
   "pygments_lexer": "ipython3",
   "version": "3.7.10"
  }
 },
 "nbformat": 4,
 "nbformat_minor": 5
}
