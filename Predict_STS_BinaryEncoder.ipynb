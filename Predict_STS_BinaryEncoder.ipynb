{
 "cells": [
  {
   "cell_type": "code",
   "execution_count": 1,
   "id": "fedef80c-8af7-4685-8f1a-88ed5570c39a",
   "metadata": {},
   "outputs": [
    {
     "name": "stdout",
     "output_type": "stream",
     "text": [
      "Similarity index:  4.26558256149292\n"
     ]
    }
   ],
   "source": [
    "from sentence_transformers import SentenceTransformer, util\n",
    "\n",
    "trained_model_path = 'output_model/SemEval_STSModel'\n",
    "model = SentenceTransformer(trained_model_path)\n",
    "\n",
    "# Input sentences to compare\n",
    "embedding1 = model.encode(['Reading is my hobby'])\n",
    "embedding2 = model.encode(['Reading is what i do when i am free'])\n",
    "\n",
    "# Compute similarity \n",
    "cos_sim = util.cos_sim(embedding1, embedding2)\n",
    "\n",
    "# transform cosine scale (-1 -> 1) to sts scale (0 -> 5)\n",
    "sts_similarity_score = 2.5*(cos_sim[0][0].item()+1)\n",
    "\n",
    "print(\"Similarity index: \", sts_similarity_score)"
   ]
  }
 ],
 "metadata": {
  "kernelspec": {
   "display_name": "Python [conda env:nlp]",
   "language": "python",
   "name": "conda-env-nlp-py"
  },
  "language_info": {
   "codemirror_mode": {
    "name": "ipython",
    "version": 3
   },
   "file_extension": ".py",
   "mimetype": "text/x-python",
   "name": "python",
   "nbconvert_exporter": "python",
   "pygments_lexer": "ipython3",
   "version": "3.7.10"
  }
 },
 "nbformat": 4,
 "nbformat_minor": 5
}
