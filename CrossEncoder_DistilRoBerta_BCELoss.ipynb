{
 "cells": [
  {
   "cell_type": "code",
   "execution_count": null,
   "id": "5c8407e2-4759-4b75-9860-f6da0d2400d5",
   "metadata": {},
   "outputs": [],
   "source": [
    "from torch.utils.data import DataLoader\n",
    "from sentence_transformers.cross_encoder import CrossEncoder\n",
    "from sentence_transformers.cross_encoder.evaluation import CECorrelationEvaluator\n",
    "from sentence_transformers import InputExample\n",
    "import gzip\n",
    "import csv\n",
    "\n",
    "# Define Input and Output Paths\n",
    "sts_dataset_path = 'input_data/stsbenchmark.tsv.gz'\n",
    "model_save_path = 'output_model/SemEval_STSModel_CrossEncoder'\n",
    "\n",
    "# Use DistillBert Cross Encoder\n",
    "model = CrossEncoder('distilroberta-base', num_labels=1)\n",
    "\n",
    "# Read Input Data\n",
    "train_samples = []\n",
    "dev_samples = []\n",
    "test_samples = []\n",
    "with gzip.open(sts_dataset_path, 'rt', encoding='utf8') as fIn:\n",
    "    reader = csv.DictReader(fIn, delimiter='\\t', quoting=csv.QUOTE_NONE)\n",
    "    for row in reader:\n",
    "        score = float(row['score']) / 5.0  # Normalize score to range 0 ... 1\n",
    "        if row['split'] == 'dev':\n",
    "            dev_samples.append(InputExample(texts=[row['sentence1'], row['sentence2']], label=score))\n",
    "        elif row['split'] == 'test':\n",
    "            test_samples.append(InputExample(texts=[row['sentence1'], row['sentence2']], label=score))\n",
    "        else:\n",
    "            # Pass both combinations to the train set to get symmetric scores, i.e. CrossEncoder(A,B) = CrossEncoder(B,A)\n",
    "            train_samples.append(InputExample(texts=[row['sentence1'], row['sentence2']], label=score))\n",
    "            train_samples.append(InputExample(texts=[row['sentence2'], row['sentence1']], label=score))\n",
    "\n",
    "# Pytorch Dataloader\n",
    "train_batch_size = 16\n",
    "train_dataloader = DataLoader(train_samples, shuffle=True, batch_size=train_batch_size)\n",
    "\n",
    "# Training Parameters\n",
    "num_epochs = 4\n",
    "warmup_steps = round(len(train_dataloader) * num_epochs * 0.1)\n",
    "\n",
    "# Define Performance Evaluator\n",
    "evaluator = CECorrelationEvaluator.from_input_examples(dev_samples, name='valid')\n",
    "\n",
    "# Train the model\n",
    "model.fit(train_dataloader=train_dataloader,\n",
    "          evaluator=evaluator,\n",
    "          epochs=num_epochs,\n",
    "          warmup_steps=warmup_steps,\n",
    "          output_path=model_save_path)\n",
    "\n",
    "##### Load model and eval on test set\n",
    "#model = CrossEncoder(model_save_path)\n",
    "\n",
    "# Evaluate Performance Metric\n",
    "evaluator = CECorrelationEvaluator.from_input_examples(test_samples, name='test')\n",
    "evaluator(model)"
   ]
  }
 ],
 "metadata": {
  "kernelspec": {
   "display_name": "Python [conda env:nlp]",
   "language": "python",
   "name": "conda-env-nlp-py"
  },
  "language_info": {
   "codemirror_mode": {
    "name": "ipython",
    "version": 3
   },
   "file_extension": ".py",
   "mimetype": "text/x-python",
   "name": "python",
   "nbconvert_exporter": "python",
   "pygments_lexer": "ipython3",
   "version": "3.7.10"
  }
 },
 "nbformat": 4,
 "nbformat_minor": 5
}
