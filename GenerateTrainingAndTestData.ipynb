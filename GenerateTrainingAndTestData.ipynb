{
 "cells": [
  {
   "cell_type": "code",
   "execution_count": 1,
   "id": "dd83858e-7eee-4e19-b095-82a20dc83528",
   "metadata": {},
   "outputs": [
    {
     "name": "stdout",
     "output_type": "stream",
     "text": [
      "written  7484 lines\n"
     ]
    }
   ],
   "source": [
    "import csv\n",
    "import os\n",
    "import random\n",
    "\n",
    "# Training Data Files\n",
    "train_files = {\"2013\" : ['headlines', 'OnWN', 'FNWN'],\n",
    "               \"2012\" : ['MSRpar', 'MSRvid', 'SMTeuroparl'],\n",
    "               \"2014\" : ['images', 'OnWN', 'tweet-news', 'deft-news', 'deft-forum', 'headlines']\n",
    "              }\n",
    "\n",
    "with open(\"SemEval_train1.txt\", \"w\", newline='', encoding='utf-8') as f_train, open(\"SemEval_test1.txt\", \"w\", newline='', encoding='utf-8') as f_test, open(\"SemEval_valid1.txt\", \"w\", newline='', encoding='utf-8') as f_valid:\n",
    "    count = 0\n",
    "    for year, topics in train_files.items():\n",
    "        file_path = os.path.join('SemEval_Data', year)\n",
    "        for topic in topics:\n",
    "            ip_file = 'STS.input.' + topic + '.txt'\n",
    "            gs_file = 'STS.gs.' + topic + '.txt'\n",
    "            with open(os.path.join(file_path , ip_file), encoding='utf-8') as ip_fp:\n",
    "                with open(os.path.join(file_path , gs_file), encoding='utf-8') as gs_fp:\n",
    "                    #print (\"---------\", year, topic, \"----------\")\n",
    "                    while True:\n",
    "                        line = ip_fp.readline().split('\\t')\n",
    "                        if line[0] == \"\":\n",
    "                            break\n",
    "                        gold_std = gs_fp.readline().strip()\n",
    "                        #print(gold_std,  line[0], line[1])\n",
    "                        newrow = [gold_std, line[0], line[1]]\n",
    "                        line_ip = '\\t'.join(newrow)\n",
    "                        \n",
    "                        # split 70 - 15- 15 %\n",
    "                        ran_var = random.random()\n",
    "                        if ( ran_var <= 0.7):\n",
    "                            f_train.write(line_ip)\n",
    "                        elif ( ran_var >= 0.85):\n",
    "                            f_test.write(line_ip)\n",
    "                        else:\n",
    "                            f_valid.write(line_ip)\n",
    "                            \n",
    "                        count = count+1\n",
    "    print(\"written \", count, \"lines\")"
   ]
  },
  {
   "cell_type": "code",
   "execution_count": null,
   "id": "0e99983d-7d1f-4156-8ef1-c03733e0a317",
   "metadata": {},
   "outputs": [],
   "source": []
  }
 ],
 "metadata": {
  "kernelspec": {
   "display_name": "Python [conda env:nlp]",
   "language": "python",
   "name": "conda-env-nlp-py"
  },
  "language_info": {
   "codemirror_mode": {
    "name": "ipython",
    "version": 3
   },
   "file_extension": ".py",
   "mimetype": "text/x-python",
   "name": "python",
   "nbconvert_exporter": "python",
   "pygments_lexer": "ipython3",
   "version": "3.7.10"
  }
 },
 "nbformat": 4,
 "nbformat_minor": 5
}
